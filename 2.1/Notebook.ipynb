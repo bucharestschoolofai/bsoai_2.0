{
  "nbformat": 4,
  "nbformat_minor": 0,
  "metadata": {
    "colab": {
      "name": "Epoch 2.1.ipynb",
      "provenance": [],
      "collapsed_sections": []
    },
    "kernelspec": {
      "name": "python3",
      "display_name": "Python 3"
    }
  },
  "cells": [
    {
      "cell_type": "markdown",
      "metadata": {
        "id": "2tke_WxiiCfM",
        "colab_type": "text"
      },
      "source": [
        "# Python Crash Course\n",
        "Let's learn [Python 3](https://docs.python.org/3.6/tutorial/)!"
      ]
    },
    {
      "cell_type": "markdown",
      "metadata": {
        "id": "ID_cu-NoQAAa",
        "colab_type": "text"
      },
      "source": [
        "## **Why Python?**\n",
        "\n",
        "Python is an interpreted high-level programming language for general-purpose programming, having a design philosophy that emphasizes code readability, notably using significant whitespace.\n",
        "It is the programming language of choice for many scientists to a large degree because it offers a great deal of power to analyze and model scientific data with relatively little overhead in terms of learning, installation or development time. \n",
        "\n",
        "---\n",
        "\n",
        "\n",
        "We will use Python at Bucharest School of AI as It is a language you can pick up in a weekend and use for the rest of your life: it is easy to learn and has a lot of great libraries for AI.\n",
        "\n",
        "![](https://imgs.xkcd.com/comics/python.png)"
      ]
    },
    {
      "cell_type": "markdown",
      "metadata": {
        "id": "3qsJaMsaAP7v",
        "colab_type": "text"
      },
      "source": [
        "## This is a [Python notebook](http://ipython.org/notebook.html). Here you can write:"
      ]
    },
    {
      "cell_type": "markdown",
      "metadata": {
        "id": "5nCJuQmnXLfw",
        "colab_type": "text"
      },
      "source": [
        "*     Text - Like this cell\n"
      ]
    },
    {
      "cell_type": "markdown",
      "metadata": {
        "id": "U4Z7y7MwXxPQ",
        "colab_type": "text"
      },
      "source": [
        "OR"
      ]
    },
    {
      "cell_type": "code",
      "metadata": {
        "id": "f0C0sqlYAYEa",
        "colab_type": "code",
        "outputId": "1031d3aa-6620-4748-831e-84f92137bab4",
        "colab": {
          "base_uri": "https://localhost:8080/",
          "height": 126
        }
      },
      "source": [
        "Code - Like this cell\n",
        "\n",
        "\n",
        "(Hit shift+Enter or click the Run button on the left to evaluate this cell)"
      ],
      "execution_count": 0,
      "outputs": [
        {
          "output_type": "error",
          "ename": "SyntaxError",
          "evalue": "ignored",
          "traceback": [
            "\u001b[0;36m  File \u001b[0;32m\"<ipython-input-1-50418eed3562>\"\u001b[0;36m, line \u001b[0;32m1\u001b[0m\n\u001b[0;31m    Code - Like this cell\u001b[0m\n\u001b[0m                   ^\u001b[0m\n\u001b[0;31mSyntaxError\u001b[0m\u001b[0;31m:\u001b[0m invalid syntax\n"
          ]
        }
      ]
    },
    {
      "cell_type": "markdown",
      "metadata": {
        "id": "-nmg2gSHXT5D",
        "colab_type": "text"
      },
      "source": [
        "# Comments <br>\n",
        "Comments are ignored. You can use them to explain what your code does."
      ]
    },
    {
      "cell_type": "code",
      "metadata": {
        "id": "qbSo8euwXNwO",
        "colab_type": "code",
        "outputId": "bd48d7df-584b-4d03-eaf9-4ef8fdba88c6",
        "colab": {
          "base_uri": "https://localhost:8080/",
          "height": 33
        }
      },
      "source": [
        "# This is a one-line comment\n",
        "\n",
        "\"\"\"\n",
        "This\n",
        "is\n",
        "a\n",
        "multi-line\n",
        "comment\n",
        "\"\"\"\n",
        "\n",
        "print (\"This is not a comment\")"
      ],
      "execution_count": 0,
      "outputs": [
        {
          "output_type": "stream",
          "text": [
            "This is not a comment\n"
          ],
          "name": "stdout"
        }
      ]
    },
    {
      "cell_type": "markdown",
      "metadata": {
        "id": "nmGKZyG4WPVq",
        "colab_type": "text"
      },
      "source": [
        "# Creating variables <br>\n",
        "Python is weakly-typed so you don't need to declare the variable type."
      ]
    },
    {
      "cell_type": "code",
      "metadata": {
        "id": "Y94RAfECV_2U",
        "colab_type": "code",
        "colab": {}
      },
      "source": [
        "# Integer\n",
        "number = 10\n",
        "\n",
        "# Float\n",
        "pi = 3.14\n",
        "\n",
        "# String\n",
        "name = 'Bucharest School of AI'\n",
        "\n",
        "# Boolean\n",
        "ok = True"
      ],
      "execution_count": 0,
      "outputs": []
    },
    {
      "cell_type": "markdown",
      "metadata": {
        "id": "B4GQYElWMoQ_",
        "colab_type": "text"
      },
      "source": [
        "## Variable naming rules and conventions\n",
        "\n",
        "Rules:\n",
        "* Variables start with an _ or a letter, never with a number.\n",
        "* Variables are case sensitive.\n",
        "* Variables must be assigned before being referenced.\n",
        "\n",
        "Conventions:\n",
        "*  Variable names should be lowercase, with words separated by underscores as necessary to improve readability.\n",
        "\n",
        "\n",
        "\n"
      ]
    },
    {
      "cell_type": "code",
      "metadata": {
        "id": "4GLe1p9ZMoAF",
        "colab_type": "code",
        "colab": {}
      },
      "source": [
        "_validvariable = 12\n",
        "readable_variable = \"Python\""
      ],
      "execution_count": 0,
      "outputs": []
    },
    {
      "cell_type": "markdown",
      "metadata": {
        "id": "tijAYw6Sbf_W",
        "colab_type": "text"
      },
      "source": [
        "In Python we do not use semicolons or brackets.<br><br>\n",
        "**We use new lines instead of semicolons. <br>\n",
        "We use identation blocks instead of brakets. **<br> \n",
        "![alt text](https://i.redd.it/7v0a4ldssdq11.png)"
      ]
    },
    {
      "cell_type": "markdown",
      "metadata": {
        "id": "LwzioW3FWUpa",
        "colab_type": "text"
      },
      "source": [
        "## Printing variables <br>\n",
        "The variables you need to print are simply passed to the 'print' function."
      ]
    },
    {
      "cell_type": "code",
      "metadata": {
        "id": "XNbTbSKiWQ7S",
        "colab_type": "code",
        "outputId": "870cd896-5a26-459c-95ad-ecca162d12d2",
        "colab": {
          "base_uri": "https://localhost:8080/",
          "height": 207
        }
      },
      "source": [
        "print(number)\n",
        "print(pi)\n",
        "print(name)\n",
        "print(ok)\n"
      ],
      "execution_count": 0,
      "outputs": [
        {
          "output_type": "error",
          "ename": "NameError",
          "evalue": "ignored",
          "traceback": [
            "\u001b[0;31m---------------------------------------------------------------------------\u001b[0m",
            "\u001b[0;31mNameError\u001b[0m                                 Traceback (most recent call last)",
            "\u001b[0;32m<ipython-input-2-a0b24d3fa7b0>\u001b[0m in \u001b[0;36m<module>\u001b[0;34m()\u001b[0m\n\u001b[0;32m----> 1\u001b[0;31m \u001b[0mprint\u001b[0m\u001b[0;34m(\u001b[0m\u001b[0mnumber\u001b[0m\u001b[0;34m)\u001b[0m\u001b[0;34m\u001b[0m\u001b[0;34m\u001b[0m\u001b[0m\n\u001b[0m\u001b[1;32m      2\u001b[0m \u001b[0mprint\u001b[0m\u001b[0;34m(\u001b[0m\u001b[0mpi\u001b[0m\u001b[0;34m)\u001b[0m\u001b[0;34m\u001b[0m\u001b[0;34m\u001b[0m\u001b[0m\n\u001b[1;32m      3\u001b[0m \u001b[0mprint\u001b[0m\u001b[0;34m(\u001b[0m\u001b[0mname\u001b[0m\u001b[0;34m)\u001b[0m\u001b[0;34m\u001b[0m\u001b[0;34m\u001b[0m\u001b[0m\n\u001b[1;32m      4\u001b[0m \u001b[0mprint\u001b[0m\u001b[0;34m(\u001b[0m\u001b[0mok\u001b[0m\u001b[0;34m)\u001b[0m\u001b[0;34m\u001b[0m\u001b[0;34m\u001b[0m\u001b[0m\n",
            "\u001b[0;31mNameError\u001b[0m: name 'number' is not defined"
          ]
        }
      ]
    },
    {
      "cell_type": "markdown",
      "metadata": {
        "id": "s96FCih385d3",
        "colab_type": "text"
      },
      "source": [
        "# Input\n",
        "Python 3 has the built-in function *input([prompt])* to accept user input."
      ]
    },
    {
      "cell_type": "code",
      "metadata": {
        "id": "qx2jZvdo8-kQ",
        "colab_type": "code",
        "outputId": "f93ee21f-78ed-4234-b0bd-2ddfce0625d1",
        "colab": {
          "base_uri": "https://localhost:8080/",
          "height": 50
        }
      },
      "source": [
        "name = input()\n",
        "print(\"Hello, \" + name + \"!\")"
      ],
      "execution_count": 0,
      "outputs": [
        {
          "output_type": "stream",
          "text": [
            "Ana\n",
            "Hello, Ana!\n"
          ],
          "name": "stdout"
        }
      ]
    },
    {
      "cell_type": "markdown",
      "metadata": {
        "id": "4IKbhi4JWuJF",
        "colab_type": "text"
      },
      "source": [
        "# Using Python as a Calculator<br>\n",
        "We use arithmetic operators to do math."
      ]
    },
    {
      "cell_type": "code",
      "metadata": {
        "id": "U7hIES6MWr2q",
        "colab_type": "code",
        "outputId": "176cef00-46f2-4d0a-8d96-75f23f34251e",
        "colab": {
          "base_uri": "https://localhost:8080/",
          "height": 34
        }
      },
      "source": [
        "_sum = 2 + 3\n",
        "difference = 2 - 3\n",
        "product = 2 * 3\n",
        "division = 2 / 3\n",
        "integer_division = 2 // 3\n",
        "modulo = 5 % 3\n",
        "\n",
        "print(_sum, difference, product, division, integer_division, modulo)"
      ],
      "execution_count": 0,
      "outputs": [
        {
          "output_type": "stream",
          "text": [
            "5 -1 6 0.6666666666666666 0 2\n"
          ],
          "name": "stdout"
        }
      ]
    },
    {
      "cell_type": "code",
      "metadata": {
        "id": "ntMczFxUc2kx",
        "colab_type": "code",
        "outputId": "0f238eb2-6a6d-4736-abb1-1cae6d9f259d",
        "colab": {
          "base_uri": "https://localhost:8080/",
          "height": 34
        }
      },
      "source": [
        "square = 3 ** 2\n",
        "result = square + 3 * (4 - 5) / 3\n",
        "print(square, result)"
      ],
      "execution_count": 0,
      "outputs": [
        {
          "output_type": "stream",
          "text": [
            "9 8.0\n"
          ],
          "name": "stdout"
        }
      ]
    },
    {
      "cell_type": "markdown",
      "metadata": {
        "id": "rSdlm4yBY4Ww",
        "colab_type": "text"
      },
      "source": [
        "# Flow control\n",
        "The three main types of flow control are: \n",
        "* if-then-else condition\n",
        "* for loops\n",
        "* while loops\n",
        "\n",
        "Again, **indentation instead of brackets**."
      ]
    },
    {
      "cell_type": "markdown",
      "metadata": {
        "id": "Jgl-yMzskDkP",
        "colab_type": "text"
      },
      "source": [
        "## If-then-else\n",
        "\n",
        "If the condition in the 'if' statement is false, the program will execute the code inside the else block. <br>\n",
        "Use 'elif' instead of typing 'else if'."
      ]
    },
    {
      "cell_type": "code",
      "metadata": {
        "id": "WRkrFNQbYDGS",
        "colab_type": "code",
        "outputId": "43a7e0f1-8a26-4a13-b39f-76495dc5e04d",
        "colab": {
          "base_uri": "https://localhost:8080/",
          "height": 33
        }
      },
      "source": [
        "value = 20\n",
        "\n",
        "if value < 10:\n",
        "  print('Option 1')\n",
        "elif value >= 10 and value < 15:\n",
        "  print('Option 2')\n",
        "else:\n",
        "  print('Option 3')"
      ],
      "execution_count": 0,
      "outputs": [
        {
          "output_type": "stream",
          "text": [
            "Option 1\n"
          ],
          "name": "stdout"
        }
      ]
    },
    {
      "cell_type": "markdown",
      "metadata": {
        "id": "NHmmrkjSZHXA",
        "colab_type": "text"
      },
      "source": [
        "Note that you can add multiple conditions in a single if statement by using the 'or' or 'and' keywords.\n",
        "* *or* returns *true* if at least one condition is true\n",
        "* *and* returns *true* if both conditions are true"
      ]
    },
    {
      "cell_type": "markdown",
      "metadata": {
        "id": "tPPsJJBQnnG2",
        "colab_type": "text"
      },
      "source": [
        "## For loops\n",
        "A for loop is used for iterating over a sequence."
      ]
    },
    {
      "cell_type": "code",
      "metadata": {
        "id": "Khtqyu4oog8P",
        "colab_type": "code",
        "colab": {}
      },
      "source": [
        "for i in range (5):\n",
        "  print (i)"
      ],
      "execution_count": 0,
      "outputs": []
    },
    {
      "cell_type": "code",
      "metadata": {
        "id": "SEq3o217ol9E",
        "colab_type": "code",
        "colab": {}
      },
      "source": [
        "list = ['elem_1', 'elem_2', 'elem_3']\n",
        "\n",
        "for i in list:\n",
        "  print (i)"
      ],
      "execution_count": 0,
      "outputs": []
    },
    {
      "cell_type": "markdown",
      "metadata": {
        "id": "0vxuxWn9aJap",
        "colab_type": "text"
      },
      "source": [
        "## While loops <br>\n",
        "The code inside the while block will be executed as long as the specified condition is true."
      ]
    },
    {
      "cell_type": "code",
      "metadata": {
        "id": "cLnRPyiiZ9Qx",
        "colab_type": "code",
        "outputId": "a56bb8bd-6b93-49f0-84b2-46eff147d2ef",
        "colab": {
          "base_uri": "https://localhost:8080/",
          "height": 228
        }
      },
      "source": [
        "age = 6\n",
        "\n",
        "while age < 18:\n",
        "  print('Still a kid. I am now', age, 'years old.')\n",
        "  age = age + 1\n",
        "  \n",
        "print('Doing the same stuff as before but legally')"
      ],
      "execution_count": 0,
      "outputs": [
        {
          "output_type": "stream",
          "text": [
            "Still a kid. I am now 6 years old.\n",
            "Still a kid. I am now 7 years old.\n",
            "Still a kid. I am now 8 years old.\n",
            "Still a kid. I am now 9 years old.\n",
            "Still a kid. I am now 10 years old.\n",
            "Still a kid. I am now 11 years old.\n",
            "Still a kid. I am now 12 years old.\n",
            "Still a kid. I am now 13 years old.\n",
            "Still a kid. I am now 14 years old.\n",
            "Still a kid. I am now 15 years old.\n",
            "Still a kid. I am now 16 years old.\n",
            "Still a kid. I am now 17 years old.\n",
            "Doing the same stuff as before but legally\n"
          ],
          "name": "stdout"
        }
      ]
    },
    {
      "cell_type": "markdown",
      "metadata": {
        "id": "MrOuXVsvc9ZJ",
        "colab_type": "text"
      },
      "source": [
        "# Lists <br>\n",
        "Lists are used to store multiple variables. <br>\n",
        "List indexing starts at zero."
      ]
    },
    {
      "cell_type": "code",
      "metadata": {
        "id": "lF_03droa1HV",
        "colab_type": "code",
        "outputId": "5311b198-b775-4806-fe3b-ffe00616d004",
        "colab": {
          "base_uri": "https://localhost:8080/",
          "height": 50
        }
      },
      "source": [
        "number = 10\n",
        "pi = 3.14\n",
        "name = 'John'\n",
        "ok = True\n",
        "\n",
        "list = [number, pi, name, ok]\n",
        "\n",
        "print('Complete list:', list)\n",
        "print('First element of list:', list[0])\n"
      ],
      "execution_count": 0,
      "outputs": [
        {
          "output_type": "stream",
          "text": [
            "Complete list: [10, 3.14, 'John', True]\n",
            "First element of list: 10\n"
          ],
          "name": "stdout"
        }
      ]
    },
    {
      "cell_type": "markdown",
      "metadata": {
        "id": "WJXlwfPOeBHl",
        "colab_type": "text"
      },
      "source": [
        "To get the length of a list we use the 'len' function."
      ]
    },
    {
      "cell_type": "code",
      "metadata": {
        "id": "oOmTn-sMcDe_",
        "colab_type": "code",
        "outputId": "054df1b0-dc37-475a-de31-823c22a6a8bf",
        "colab": {
          "base_uri": "https://localhost:8080/",
          "height": 98
        }
      },
      "source": [
        "length = len(list)\n",
        "print('Length: ', length)\n",
        "\n",
        "for i in range(len(list)):\n",
        "  print (i)"
      ],
      "execution_count": 0,
      "outputs": [
        {
          "output_type": "stream",
          "text": [
            "Length:  4\n",
            "0\n",
            "1\n",
            "2\n",
            "3\n"
          ],
          "name": "stdout"
        }
      ]
    },
    {
      "cell_type": "markdown",
      "metadata": {
        "id": "3Y2OgprNfjTv",
        "colab_type": "text"
      },
      "source": [
        "# Functions <br>\n",
        "We use functions to run blocks without rewriting the code and cluttering our program."
      ]
    },
    {
      "cell_type": "code",
      "metadata": {
        "id": "aY6Tzjc-b-YA",
        "colab_type": "code",
        "outputId": "9aaba056-26a9-430d-b15f-88969094cb75",
        "colab": {
          "base_uri": "https://localhost:8080/",
          "height": 34
        }
      },
      "source": [
        "def shout():\n",
        "  print('Bucharest School of AI rocks!')\n",
        "\n",
        "shout()"
      ],
      "execution_count": 0,
      "outputs": [
        {
          "output_type": "stream",
          "text": [
            "Bucharest School of AI rocks!\n"
          ],
          "name": "stdout"
        }
      ]
    },
    {
      "cell_type": "code",
      "metadata": {
        "id": "DYXSyBS_eq2w",
        "colab_type": "code",
        "outputId": "107bbac5-b7cf-40b8-e830-20859cbe0a64",
        "colab": {
          "base_uri": "https://localhost:8080/",
          "height": 34
        }
      },
      "source": [
        "def make_square(input):\n",
        "  return input ** 2\n",
        "\n",
        "print(make_square(3))"
      ],
      "execution_count": 0,
      "outputs": [
        {
          "output_type": "stream",
          "text": [
            "9\n"
          ],
          "name": "stdout"
        }
      ]
    },
    {
      "cell_type": "markdown",
      "metadata": {
        "id": "_GWoWIJ5Rnr1",
        "colab_type": "text"
      },
      "source": [
        "## Conclusion\n"
      ]
    },
    {
      "cell_type": "code",
      "metadata": {
        "id": "AptTejZXRrS4",
        "colab_type": "code",
        "outputId": "23afa902-f3d8-4235-bb4d-a6e296953533",
        "colab": {
          "base_uri": "https://localhost:8080/",
          "height": 358
        }
      },
      "source": [
        "import this"
      ],
      "execution_count": 0,
      "outputs": [
        {
          "output_type": "stream",
          "text": [
            "The Zen of Python, by Tim Peters\n",
            "\n",
            "Beautiful is better than ugly.\n",
            "Explicit is better than implicit.\n",
            "Simple is better than complex.\n",
            "Complex is better than complicated.\n",
            "Flat is better than nested.\n",
            "Sparse is better than dense.\n",
            "Readability counts.\n",
            "Special cases aren't special enough to break the rules.\n",
            "Although practicality beats purity.\n",
            "Errors should never pass silently.\n",
            "Unless explicitly silenced.\n",
            "In the face of ambiguity, refuse the temptation to guess.\n",
            "There should be one-- and preferably only one --obvious way to do it.\n",
            "Although that way may not be obvious at first unless you're Dutch.\n",
            "Now is better than never.\n",
            "Although never is often better than *right* now.\n",
            "If the implementation is hard to explain, it's a bad idea.\n",
            "If the implementation is easy to explain, it may be a good idea.\n",
            "Namespaces are one honking great idea -- let's do more of those!\n"
          ],
          "name": "stdout"
        }
      ]
    },
    {
      "cell_type": "markdown",
      "metadata": {
        "id": "QecPk-l6Lx3K",
        "colab_type": "text"
      },
      "source": [
        "# Getting started with libraries\n"
      ]
    },
    {
      "cell_type": "markdown",
      "metadata": {
        "colab_type": "text",
        "id": "_jRgBcc1NYJB"
      },
      "source": [
        "## Cool packages for Scientists\n",
        "<br>\n",
        "Important libraries: <br>\n",
        "\n",
        "* [Python](http://www.python.org) version 2.7;\n",
        "* [Numpy](http://www.numpy.org), the core numerical extensions for linear algebra and multidimensional arrays;\n",
        "* [Scipy](http://www.scipy.org), additional libraries for scientific programming;\n",
        "* [Matplotlib](http://matplotlib.sf.net), excellent plotting and graphing libraries;\n",
        "* [IPython](http://ipython.org), with the additional libraries required for the notebook interface.\n",
        "* [Sympy](http://sympy.org), symbolic math in Python\n",
        "* [Pandas](http://pandas.pydata.org/) library for big data in Python"
      ]
    },
    {
      "cell_type": "markdown",
      "metadata": {
        "id": "alLUNTcFRhsf",
        "colab_type": "text"
      },
      "source": [
        "![](http://houseofbots.com/images/news/3527/cover.png)"
      ]
    },
    {
      "cell_type": "markdown",
      "metadata": {
        "colab_type": "text",
        "id": "wwvAFEvkNY_k"
      },
      "source": [
        "## Importing a library"
      ]
    },
    {
      "cell_type": "code",
      "metadata": {
        "id": "wMLRfxpeL54v",
        "colab_type": "code",
        "colab": {}
      },
      "source": [
        "import numpy"
      ],
      "execution_count": 0,
      "outputs": []
    },
    {
      "cell_type": "code",
      "metadata": {
        "id": "dBcfls2LL9k5",
        "colab_type": "code",
        "colab": {}
      },
      "source": [
        "import numpy as np"
      ],
      "execution_count": 0,
      "outputs": []
    },
    {
      "cell_type": "markdown",
      "metadata": {
        "id": "_Rz_dAgdMBHg",
        "colab_type": "text"
      },
      "source": [
        "# Numpy"
      ]
    },
    {
      "cell_type": "markdown",
      "metadata": {
        "colab_type": "text",
        "id": "M7LjytdHNZl0"
      },
      "source": [
        "[Numpy](http://numpy.org) contains core routines for doing fast vector, matrix, and linear algebra-type operations in Python. "
      ]
    },
    {
      "cell_type": "markdown",
      "metadata": {
        "id": "MHK5TvKLNmz-",
        "colab_type": "text"
      },
      "source": [
        "## Operating with lists as Numpy arrays"
      ]
    },
    {
      "cell_type": "code",
      "metadata": {
        "id": "WS-aat16MjZA",
        "colab_type": "code",
        "colab": {}
      },
      "source": [
        "list = [1, 2, 5, 2, 8, 6, 7]\n",
        "np_array = np.array(list)"
      ],
      "execution_count": 0,
      "outputs": []
    },
    {
      "cell_type": "markdown",
      "metadata": {
        "id": "6ekcW9GJMOP0",
        "colab_type": "text"
      },
      "source": [
        "## Aggregation"
      ]
    },
    {
      "cell_type": "code",
      "metadata": {
        "id": "rLXZzTdwMiRq",
        "colab_type": "code",
        "outputId": "6770ccd7-72a2-41ba-edec-d1e81e20876e",
        "colab": {
          "base_uri": "https://localhost:8080/",
          "height": 34
        }
      },
      "source": [
        "np.sum(np_array)"
      ],
      "execution_count": 0,
      "outputs": [
        {
          "output_type": "execute_result",
          "data": {
            "text/plain": [
              "31"
            ]
          },
          "metadata": {
            "tags": []
          },
          "execution_count": 23
        }
      ]
    },
    {
      "cell_type": "code",
      "metadata": {
        "id": "_wNV1OdyNTSP",
        "colab_type": "code",
        "outputId": "fcb5b07e-b8fb-41e9-f86b-32f5a4165ce9",
        "colab": {
          "base_uri": "https://localhost:8080/",
          "height": 34
        }
      },
      "source": [
        "np.min(np_array)"
      ],
      "execution_count": 0,
      "outputs": [
        {
          "output_type": "execute_result",
          "data": {
            "text/plain": [
              "1"
            ]
          },
          "metadata": {
            "tags": []
          },
          "execution_count": 24
        }
      ]
    },
    {
      "cell_type": "code",
      "metadata": {
        "id": "dRFh66uXNX4j",
        "colab_type": "code",
        "outputId": "c58cf5a2-f837-4e2b-e7aa-256ee3c0d628",
        "colab": {
          "base_uri": "https://localhost:8080/",
          "height": 34
        }
      },
      "source": [
        "np.max(np_array)"
      ],
      "execution_count": 0,
      "outputs": [
        {
          "output_type": "execute_result",
          "data": {
            "text/plain": [
              "8"
            ]
          },
          "metadata": {
            "tags": []
          },
          "execution_count": 25
        }
      ]
    },
    {
      "cell_type": "code",
      "metadata": {
        "id": "MsdT8q6EM2lk",
        "colab_type": "code",
        "outputId": "3c6b54db-d00e-452f-be50-3889d7b2baff",
        "colab": {
          "base_uri": "https://localhost:8080/",
          "height": 34
        }
      },
      "source": [
        "np.mean(np_array)"
      ],
      "execution_count": 0,
      "outputs": [
        {
          "output_type": "execute_result",
          "data": {
            "text/plain": [
              "4.428571428571429"
            ]
          },
          "metadata": {
            "tags": []
          },
          "execution_count": 26
        }
      ]
    },
    {
      "cell_type": "code",
      "metadata": {
        "id": "ZysteoPsM6d3",
        "colab_type": "code",
        "outputId": "b9f8f6a0-a583-4af6-ec04-3a0cf18cf5ce",
        "colab": {
          "base_uri": "https://localhost:8080/",
          "height": 34
        }
      },
      "source": [
        "np.median(np_array)"
      ],
      "execution_count": 0,
      "outputs": [
        {
          "output_type": "execute_result",
          "data": {
            "text/plain": [
              "5.0"
            ]
          },
          "metadata": {
            "tags": []
          },
          "execution_count": 27
        }
      ]
    },
    {
      "cell_type": "code",
      "metadata": {
        "id": "4_Emg3uiNdj3",
        "colab_type": "code",
        "outputId": "bae2ce68-3c52-4962-bc32-21c666f93ab5",
        "colab": {
          "base_uri": "https://localhost:8080/",
          "height": 34
        }
      },
      "source": [
        "np.std(np_array)"
      ],
      "execution_count": 0,
      "outputs": [
        {
          "output_type": "execute_result",
          "data": {
            "text/plain": [
              "2.5555062599997598"
            ]
          },
          "metadata": {
            "tags": []
          },
          "execution_count": 28
        }
      ]
    },
    {
      "cell_type": "markdown",
      "metadata": {
        "id": "g0__BNOoLm6O",
        "colab_type": "text"
      },
      "source": [
        "## Constants"
      ]
    },
    {
      "cell_type": "code",
      "metadata": {
        "id": "itArvqt5LoNd",
        "colab_type": "code",
        "outputId": "6cc2395b-dc06-4dd9-e975-f86e8a12d596",
        "colab": {
          "base_uri": "https://localhost:8080/",
          "height": 34
        }
      },
      "source": [
        "np.pi"
      ],
      "execution_count": 0,
      "outputs": [
        {
          "output_type": "execute_result",
          "data": {
            "text/plain": [
              "3.141592653589793"
            ]
          },
          "metadata": {
            "tags": []
          },
          "execution_count": 29
        }
      ]
    },
    {
      "cell_type": "code",
      "metadata": {
        "id": "nMTHkNbTLqcl",
        "colab_type": "code",
        "outputId": "f82eefae-a150-4486-fa39-e8ed73e400fe",
        "colab": {
          "base_uri": "https://localhost:8080/",
          "height": 34
        }
      },
      "source": [
        "np.e"
      ],
      "execution_count": 0,
      "outputs": [
        {
          "output_type": "execute_result",
          "data": {
            "text/plain": [
              "2.718281828459045"
            ]
          },
          "metadata": {
            "tags": []
          },
          "execution_count": 30
        }
      ]
    },
    {
      "cell_type": "markdown",
      "metadata": {
        "id": "6qkkMz2WNeAH",
        "colab_type": "text"
      },
      "source": [
        "## Arithmetic Operations"
      ]
    },
    {
      "cell_type": "code",
      "metadata": {
        "id": "UEPS10nXNiX1",
        "colab_type": "code",
        "outputId": "bae9fe56-02b1-40aa-b865-c5674ae89bad",
        "colab": {
          "base_uri": "https://localhost:8080/",
          "height": 34
        }
      },
      "source": [
        "np.multiply(list, 5)"
      ],
      "execution_count": 0,
      "outputs": [
        {
          "output_type": "execute_result",
          "data": {
            "text/plain": [
              "array([ 5, 10, 25, 10, 40, 30, 35])"
            ]
          },
          "metadata": {
            "tags": []
          },
          "execution_count": 31
        }
      ]
    },
    {
      "cell_type": "code",
      "metadata": {
        "id": "1rQr4s08OFKc",
        "colab_type": "code",
        "outputId": "ead17465-86a1-4527-c5ca-f0c571fd6c77",
        "colab": {
          "base_uri": "https://localhost:8080/",
          "height": 51
        }
      },
      "source": [
        "np.sqrt(np_array)"
      ],
      "execution_count": 0,
      "outputs": [
        {
          "output_type": "execute_result",
          "data": {
            "text/plain": [
              "array([1.        , 1.41421356, 2.23606798, 1.41421356, 2.82842712,\n",
              "       2.44948974, 2.64575131])"
            ]
          },
          "metadata": {
            "tags": []
          },
          "execution_count": 32
        }
      ]
    },
    {
      "cell_type": "code",
      "metadata": {
        "id": "7s7DPD9vOVnP",
        "colab_type": "code",
        "outputId": "4e92efc4-b725-48cd-8dcb-77d43d7e513b",
        "colab": {
          "base_uri": "https://localhost:8080/",
          "height": 51
        }
      },
      "source": [
        "np.log(np_array)"
      ],
      "execution_count": 0,
      "outputs": [
        {
          "output_type": "execute_result",
          "data": {
            "text/plain": [
              "array([0.        , 0.69314718, 1.60943791, 0.69314718, 2.07944154,\n",
              "       1.79175947, 1.94591015])"
            ]
          },
          "metadata": {
            "tags": []
          },
          "execution_count": 33
        }
      ]
    },
    {
      "cell_type": "code",
      "metadata": {
        "id": "dtpRvRTuOXGr",
        "colab_type": "code",
        "outputId": "473e2085-f1b9-48b1-917a-0f59274022a5",
        "colab": {
          "base_uri": "https://localhost:8080/",
          "height": 34
        }
      },
      "source": [
        "np.dot(np_array, np_array)"
      ],
      "execution_count": 0,
      "outputs": [
        {
          "output_type": "execute_result",
          "data": {
            "text/plain": [
              "183"
            ]
          },
          "metadata": {
            "tags": []
          },
          "execution_count": 34
        }
      ]
    },
    {
      "cell_type": "markdown",
      "metadata": {
        "id": "HsjCdKDQMoRt",
        "colab_type": "text"
      },
      "source": [
        "## Sorting"
      ]
    },
    {
      "cell_type": "code",
      "metadata": {
        "id": "xUzQ5vWTMp5y",
        "colab_type": "code",
        "outputId": "5b695732-cea3-423c-c2f8-4fd30b23e0ba",
        "colab": {
          "base_uri": "https://localhost:8080/",
          "height": 34
        }
      },
      "source": [
        "np_array.sort()\n",
        "print(np_array)"
      ],
      "execution_count": 0,
      "outputs": [
        {
          "output_type": "stream",
          "text": [
            "[1 2 2 5 6 7 8]\n"
          ],
          "name": "stdout"
        }
      ]
    },
    {
      "cell_type": "markdown",
      "metadata": {
        "id": "H74tSjTuOWMQ",
        "colab_type": "text"
      },
      "source": [
        "## Array manipulation"
      ]
    },
    {
      "cell_type": "code",
      "metadata": {
        "id": "3QIvZmeEOu-P",
        "colab_type": "code",
        "outputId": "3ef61f38-63d7-4308-d615-881402d6a775",
        "colab": {
          "base_uri": "https://localhost:8080/",
          "height": 34
        }
      },
      "source": [
        "np.append([1, 2, 3], [4, 5, 6])"
      ],
      "execution_count": 0,
      "outputs": [
        {
          "output_type": "execute_result",
          "data": {
            "text/plain": [
              "array([1, 2, 3, 4, 5, 6])"
            ]
          },
          "metadata": {
            "tags": []
          },
          "execution_count": 36
        }
      ]
    },
    {
      "cell_type": "code",
      "metadata": {
        "id": "P4ZGTPrtO7FE",
        "colab_type": "code",
        "outputId": "a9bc90f8-771f-4c8b-a4cd-081be52365d9",
        "colab": {
          "base_uri": "https://localhost:8080/",
          "height": 51
        }
      },
      "source": [
        "np.reshape([1, 2, 3, 4], (2, 2))"
      ],
      "execution_count": 0,
      "outputs": [
        {
          "output_type": "execute_result",
          "data": {
            "text/plain": [
              "array([[1, 2],\n",
              "       [3, 4]])"
            ]
          },
          "metadata": {
            "tags": []
          },
          "execution_count": 37
        }
      ]
    },
    {
      "cell_type": "markdown",
      "metadata": {
        "id": "ORphi1gDPusN",
        "colab_type": "text"
      },
      "source": [
        "## Coding Challenge 1\n"
      ]
    },
    {
      "cell_type": "code",
      "metadata": {
        "id": "9FUtG2ZkRRn4",
        "colab_type": "code",
        "colab": {}
      },
      "source": [
        "prices = [1.25, 12, 9.9, 10.5, 15, 12, 7, 8.5]"
      ],
      "execution_count": 0,
      "outputs": []
    },
    {
      "cell_type": "markdown",
      "metadata": {
        "id": "tI656hJfP-Hu",
        "colab_type": "text"
      },
      "source": [
        "The above list contains the changing price of a product from an online store, **before a 20% tax is applied**. Print the difference between the highest price and the lowest price after the tax is applied, by using Numpy functions."
      ]
    },
    {
      "cell_type": "code",
      "metadata": {
        "id": "OIO7aphZPuUJ",
        "colab_type": "code",
        "colab": {}
      },
      "source": [
        "# Insert your code here!"
      ],
      "execution_count": 0,
      "outputs": []
    },
    {
      "cell_type": "markdown",
      "metadata": {
        "id": "63TWYsYYPtjC",
        "colab_type": "text"
      },
      "source": [
        "## Coding Challenge 2"
      ]
    },
    {
      "cell_type": "code",
      "metadata": {
        "id": "PRMQOjmlRx61",
        "colab_type": "code",
        "colab": {}
      },
      "source": [
        "new_prices = [2.35, 9.15, 8, 20]"
      ],
      "execution_count": 0,
      "outputs": []
    },
    {
      "cell_type": "markdown",
      "metadata": {
        "id": "UOJw0iSaPy39",
        "colab_type": "text"
      },
      "source": [
        "Add the contents of the new list to the old list. Print the price average before and after adding the new values. How much did it change?"
      ]
    },
    {
      "cell_type": "code",
      "metadata": {
        "id": "AC84nGNeSmsC",
        "colab_type": "code",
        "colab": {}
      },
      "source": [
        "# Insert your code here!"
      ],
      "execution_count": 0,
      "outputs": []
    },
    {
      "cell_type": "markdown",
      "metadata": {
        "id": "c6Kokew0SnUg",
        "colab_type": "text"
      },
      "source": [
        "# Plotting with Matplotlib\n",
        "\n",
        "Matplotlib tries to make easy things easy and hard things possible. You can generate plots, histograms, power spectra, bar charts, errorcharts, scatterplots, etc., with just a few lines of code. "
      ]
    },
    {
      "cell_type": "code",
      "metadata": {
        "id": "cQGHigkoSzhX",
        "colab_type": "code",
        "colab": {}
      },
      "source": [
        "import matplotlib.pyplot"
      ],
      "execution_count": 0,
      "outputs": []
    },
    {
      "cell_type": "code",
      "metadata": {
        "id": "W5ttPK4SSq9H",
        "colab_type": "code",
        "colab": {}
      },
      "source": [
        "import matplotlib.pyplot as plt"
      ],
      "execution_count": 0,
      "outputs": []
    },
    {
      "cell_type": "markdown",
      "metadata": {
        "id": "uOkfTZVTSxIF",
        "colab_type": "text"
      },
      "source": [
        "## Line Plots\n",
        "\n",
        "A Line Plot is most frequently used to show and analyse how the data has changed over time."
      ]
    },
    {
      "cell_type": "code",
      "metadata": {
        "id": "dlaQbRPMS2hs",
        "colab_type": "code",
        "outputId": "1d5a1512-0039-4935-f692-0eb4de08f689",
        "colab": {
          "base_uri": "https://localhost:8080/",
          "height": 282
        }
      },
      "source": [
        "plt.plot(prices)\n",
        "plt.xlabel('Some x axis')\n",
        "plt.ylabel('Some y axis')\n",
        "plt.show()"
      ],
      "execution_count": 0,
      "outputs": [
        {
          "output_type": "display_data",
          "data": {
            "image/png": "[encoded data removed]",
            "text/plain": [
              "<Figure size 432x288 with 1 Axes>"
            ]
          },
          "metadata": {
            "tags": []
          }
        }
      ]
    },
    {
      "cell_type": "markdown",
      "metadata": {
        "id": "5E1pDxSBTDv5",
        "colab_type": "text"
      },
      "source": [
        "## Bar Plots\n",
        "\n",
        "Bar Plots are used to visualize and compare things between different **groups** or to track changes over time."
      ]
    },
    {
      "cell_type": "code",
      "metadata": {
        "id": "hvxca_P7TFV0",
        "colab_type": "code",
        "outputId": "6c147387-867f-4ab7-c200-d66b22af6f42",
        "colab": {
          "base_uri": "https://localhost:8080/",
          "height": 347
        }
      },
      "source": [
        "plt.bar(\"Maximum price\",np.max(prices))\n",
        "plt.bar(\"Minimum price\", np.min(prices))\n",
        "plt.bar(\"Average price\", np.mean(prices))\n",
        "plt.xlabel('Some x axis')\n",
        "plt.ylabel('Some y axis')\n",
        "plt.show()"
      ],
      "execution_count": 0,
      "outputs": [
        {
          "output_type": "display_data",
          "data": {
            "image/png": "[encoded data removed]",
            "text/plain": [
              "<matplotlib.figure.Figure at 0x7f2b6f6b1c50>"
            ]
          },
          "metadata": {
            "tags": []
          }
        }
      ]
    },
    {
      "cell_type": "markdown",
      "metadata": {
        "id": "7YEQTPD7TQjm",
        "colab_type": "text"
      },
      "source": [
        "## Histogram\n",
        "\n",
        "Histograms are used to show distributions of variables while bar charts are used to compare variables. "
      ]
    },
    {
      "cell_type": "code",
      "metadata": {
        "id": "-hSc5Y8kTQKH",
        "colab_type": "code",
        "outputId": "8e10fc46-f019-4a90-d49a-e65e75352dd2",
        "colab": {
          "base_uri": "https://localhost:8080/",
          "height": 282
        }
      },
      "source": [
        "plt.hist(prices)\n",
        "plt.xlabel('x')\n",
        "plt.ylabel('hist(x)')\n",
        "plt.show()"
      ],
      "execution_count": 0,
      "outputs": [
        {
          "output_type": "display_data",
          "data": {
            "image/png": "[encoded data removed]",
            "text/plain": [
              "<Figure size 432x288 with 1 Axes>"
            ]
          },
          "metadata": {
            "tags": []
          }
        }
      ]
    },
    {
      "cell_type": "markdown",
      "metadata": {
        "id": "40ESNuxgTybq",
        "colab_type": "text"
      },
      "source": [
        "## Scatter Plots\n",
        "\n",
        "Scatter Plots show the relationship between two variables - how much one variable is affected by another. <br> Scatter plots are sometimes called *Correlation Plots* because they show how two variables are correlated. "
      ]
    },
    {
      "cell_type": "code",
      "metadata": {
        "id": "E8ZuEE48Twdg",
        "colab_type": "code",
        "outputId": "e6f953a3-2c6d-4b41-8dfa-2ad2af7deed9",
        "colab": {
          "base_uri": "https://localhost:8080/",
          "height": 282
        }
      },
      "source": [
        "height = [1.74, 1.85, 1.83, 1.62, 1.50, 1.92]\n",
        "shoe_size = [38, 45, 44, 35, 32, 46]\n",
        "\n",
        "plt.scatter(height, shoe_size)\n",
        "plt.xlabel('Height')\n",
        "plt.ylabel('Shoe size')\n",
        "plt.show()"
      ],
      "execution_count": 0,
      "outputs": [
        {
          "output_type": "display_data",
          "data": {
            "image/png": "[encoded data removed]",
            "text/plain": [
              "<Figure size 432x288 with 1 Axes>"
            ]
          },
          "metadata": {
            "tags": []
          }
        }
      ]
    },
    {
      "cell_type": "markdown",
      "metadata": {
        "id": "ec_oS-liBHEz",
        "colab_type": "text"
      },
      "source": [
        "# Files"
      ]
    },
    {
      "cell_type": "markdown",
      "metadata": {
        "id": "TN8xzo12HC1c",
        "colab_type": "text"
      },
      "source": [
        "In our case we need to download a dataset from the web (Originally from Kaggle). We will use the 'urllib' library to help us out."
      ]
    },
    {
      "cell_type": "code",
      "metadata": {
        "id": "KqE4C6-JHB4B",
        "colab_type": "code",
        "colab": {}
      },
      "source": [
        "from urllib.request import urlopen\n",
        "data = urlopen(\"https://raw.githubusercontent.com/bucharestschoolofai/python_crash_course/master/train.csv\")"
      ],
      "execution_count": 0,
      "outputs": []
    },
    {
      "cell_type": "markdown",
      "metadata": {
        "id": "ZBk4XewWHhGz",
        "colab_type": "text"
      },
      "source": [
        "## Pandas for big data\n",
        "\n",
        "Pandas provides data structures and functionality to quickly manipulate and analyze data."
      ]
    },
    {
      "cell_type": "code",
      "metadata": {
        "id": "JvFJdtrfBLgB",
        "colab_type": "code",
        "outputId": "2fe57a1e-d2bd-47c4-8d7e-a6ee2453011b",
        "colab": {
          "base_uri": "https://localhost:8080/",
          "height": 204
        }
      },
      "source": [
        "import pandas as pd\n",
        "data = pd.read_csv(data)\n",
        "\n",
        "data.head(5)"
      ],
      "execution_count": 0,
      "outputs": [
        {
          "output_type": "execute_result",
          "data": {
            "text/html": [
              "<div>\n",
              "<style scoped>\n",
              "    .dataframe tbody tr th:only-of-type {\n",
              "        vertical-align: middle;\n",
              "    }\n",
              "\n",
              "    .dataframe tbody tr th {\n",
              "        vertical-align: top;\n",
              "    }\n",
              "\n",
              "    .dataframe thead th {\n",
              "        text-align: right;\n",
              "    }\n",
              "</style>\n",
              "<table border=\"1\" class=\"dataframe\">\n",
              "  <thead>\n",
              "    <tr style=\"text-align: right;\">\n",
              "      <th></th>\n",
              "      <th>PassengerId</th>\n",
              "      <th>Survived</th>\n",
              "      <th>Pclass</th>\n",
              "      <th>Name</th>\n",
              "      <th>Sex</th>\n",
              "      <th>Age</th>\n",
              "      <th>SibSp</th>\n",
              "      <th>Parch</th>\n",
              "      <th>Ticket</th>\n",
              "      <th>Fare</th>\n",
              "      <th>Cabin</th>\n",
              "      <th>Embarked</th>\n",
              "    </tr>\n",
              "  </thead>\n",
              "  <tbody>\n",
              "    <tr>\n",
              "      <th>0</th>\n",
              "      <td>1</td>\n",
              "      <td>0</td>\n",
              "      <td>3</td>\n",
              "      <td>Braund, Mr. Owen Harris</td>\n",
              "      <td>male</td>\n",
              "      <td>22.0</td>\n",
              "      <td>1</td>\n",
              "      <td>0</td>\n",
              "      <td>A/5 21171</td>\n",
              "      <td>7.2500</td>\n",
              "      <td>NaN</td>\n",
              "      <td>S</td>\n",
              "    </tr>\n",
              "    <tr>\n",
              "      <th>1</th>\n",
              "      <td>2</td>\n",
              "      <td>1</td>\n",
              "      <td>1</td>\n",
              "      <td>Cumings, Mrs. John Bradley (Florence Briggs Th...</td>\n",
              "      <td>female</td>\n",
              "      <td>38.0</td>\n",
              "      <td>1</td>\n",
              "      <td>0</td>\n",
              "      <td>PC 17599</td>\n",
              "      <td>71.2833</td>\n",
              "      <td>C85</td>\n",
              "      <td>C</td>\n",
              "    </tr>\n",
              "    <tr>\n",
              "      <th>2</th>\n",
              "      <td>3</td>\n",
              "      <td>1</td>\n",
              "      <td>3</td>\n",
              "      <td>Heikkinen, Miss. Laina</td>\n",
              "      <td>female</td>\n",
              "      <td>26.0</td>\n",
              "      <td>0</td>\n",
              "      <td>0</td>\n",
              "      <td>STON/O2. 3101282</td>\n",
              "      <td>7.9250</td>\n",
              "      <td>NaN</td>\n",
              "      <td>S</td>\n",
              "    </tr>\n",
              "    <tr>\n",
              "      <th>3</th>\n",
              "      <td>4</td>\n",
              "      <td>1</td>\n",
              "      <td>1</td>\n",
              "      <td>Futrelle, Mrs. Jacques Heath (Lily May Peel)</td>\n",
              "      <td>female</td>\n",
              "      <td>35.0</td>\n",
              "      <td>1</td>\n",
              "      <td>0</td>\n",
              "      <td>113803</td>\n",
              "      <td>53.1000</td>\n",
              "      <td>C123</td>\n",
              "      <td>S</td>\n",
              "    </tr>\n",
              "    <tr>\n",
              "      <th>4</th>\n",
              "      <td>5</td>\n",
              "      <td>0</td>\n",
              "      <td>3</td>\n",
              "      <td>Allen, Mr. William Henry</td>\n",
              "      <td>male</td>\n",
              "      <td>35.0</td>\n",
              "      <td>0</td>\n",
              "      <td>0</td>\n",
              "      <td>373450</td>\n",
              "      <td>8.0500</td>\n",
              "      <td>NaN</td>\n",
              "      <td>S</td>\n",
              "    </tr>\n",
              "  </tbody>\n",
              "</table>\n",
              "</div>"
            ],
            "text/plain": [
              "   PassengerId  Survived  Pclass  \\\n",
              "0            1         0       3   \n",
              "1            2         1       1   \n",
              "2            3         1       3   \n",
              "3            4         1       1   \n",
              "4            5         0       3   \n",
              "\n",
              "                                                Name     Sex   Age  SibSp  \\\n",
              "0                            Braund, Mr. Owen Harris    male  22.0      1   \n",
              "1  Cumings, Mrs. John Bradley (Florence Briggs Th...  female  38.0      1   \n",
              "2                             Heikkinen, Miss. Laina  female  26.0      0   \n",
              "3       Futrelle, Mrs. Jacques Heath (Lily May Peel)  female  35.0      1   \n",
              "4                           Allen, Mr. William Henry    male  35.0      0   \n",
              "\n",
              "   Parch            Ticket     Fare Cabin Embarked  \n",
              "0      0         A/5 21171   7.2500   NaN        S  \n",
              "1      0          PC 17599  71.2833   C85        C  \n",
              "2      0  STON/O2. 3101282   7.9250   NaN        S  \n",
              "3      0            113803  53.1000  C123        S  \n",
              "4      0            373450   8.0500   NaN        S  "
            ]
          },
          "metadata": {
            "tags": []
          },
          "execution_count": 47
        }
      ]
    },
    {
      "cell_type": "code",
      "metadata": {
        "id": "zrDnD6HhCQt-",
        "colab_type": "code",
        "outputId": "705eeb02-b1c0-417a-aa86-9c5048858e85",
        "colab": {
          "base_uri": "https://localhost:8080/",
          "height": 136
        }
      },
      "source": [
        "array = data.values\n",
        "print(array)"
      ],
      "execution_count": 0,
      "outputs": [
        {
          "output_type": "stream",
          "text": [
            "[[1 0 3 ... 7.25 nan 'S']\n",
            " [2 1 1 ... 71.2833 'C85' 'C']\n",
            " [3 1 3 ... 7.925 nan 'S']\n",
            " ...\n",
            " [889 0 3 ... 23.45 nan 'S']\n",
            " [890 1 1 ... 30.0 'C148' 'C']\n",
            " [891 0 3 ... 7.75 nan 'Q']]\n"
          ],
          "name": "stdout"
        }
      ]
    },
    {
      "cell_type": "markdown",
      "metadata": {
        "id": "Ike5UACrU8H7",
        "colab_type": "text"
      },
      "source": [
        "## Coding Challange 3 - Titanic\n",
        "Find out what percent of the Titanic crew survived."
      ]
    },
    {
      "cell_type": "markdown",
      "metadata": {
        "id": "UgaesUbLJ0xj",
        "colab_type": "text"
      },
      "source": [
        "Using the 'array' variable:\n"
      ]
    },
    {
      "cell_type": "markdown",
      "metadata": {
        "id": "3a7lI-TSXM8p",
        "colab_type": "text"
      },
      "source": [
        "Create a bar chart which shows how many people were on board by gender."
      ]
    },
    {
      "cell_type": "code",
      "metadata": {
        "id": "553BM-7hXepD",
        "colab_type": "code",
        "colab": {}
      },
      "source": [
        "# Insert your code here!"
      ],
      "execution_count": 0,
      "outputs": []
    },
    {
      "cell_type": "markdown",
      "metadata": {
        "id": "Qhco8oGFXUYy",
        "colab_type": "text"
      },
      "source": [
        "Create a histogram based on the ages of the passangers."
      ]
    },
    {
      "cell_type": "code",
      "metadata": {
        "id": "KkthyBt8XfYT",
        "colab_type": "code",
        "colab": {}
      },
      "source": [
        "# Insert your code here!"
      ],
      "execution_count": 0,
      "outputs": []
    },
    {
      "cell_type": "markdown",
      "metadata": {
        "id": "dk00THxdX0wl",
        "colab_type": "text"
      },
      "source": [
        "Create a visualization of your choice!"
      ]
    },
    {
      "cell_type": "code",
      "metadata": {
        "id": "2ubUBVXxX3Z_",
        "colab_type": "code",
        "colab": {}
      },
      "source": [
        "# Insert your code here!"
      ],
      "execution_count": 0,
      "outputs": []
    },
    {
      "cell_type": "markdown",
      "metadata": {
        "id": "EG711ef9SSuJ",
        "colab_type": "text"
      },
      "source": [
        "![](https://img.devrant.com/devrant/rant/r_1869594_od9Tb.jpg)"
      ]
    },
    {
      "cell_type": "markdown",
      "metadata": {
        "id": "I7dYEgMVUfTx",
        "colab_type": "text"
      },
      "source": [
        "# Bonus Coding Challenge 1\n",
        "\n",
        "We will now analyse the World Happiness Report 2017 (https://raw.githubusercontent.com/bucharestschoolofai/python_crash_course/master/2017.csv)."
      ]
    },
    {
      "cell_type": "code",
      "metadata": {
        "id": "nHu4O1pRWakh",
        "colab_type": "code",
        "colab": {}
      },
      "source": [
        "# Insert your code here!"
      ],
      "execution_count": 0,
      "outputs": []
    },
    {
      "cell_type": "markdown",
      "metadata": {
        "id": "KUhXN_TWVdtF",
        "colab_type": "text"
      },
      "source": [
        "Plot the distribution of happiness through a histogram."
      ]
    },
    {
      "cell_type": "code",
      "metadata": {
        "id": "BPJ-Vb60UfMt",
        "colab_type": "code",
        "colab": {}
      },
      "source": [
        "# Insert your code here!"
      ],
      "execution_count": 0,
      "outputs": []
    },
    {
      "cell_type": "markdown",
      "metadata": {
        "id": "zy8mQqxsVmme",
        "colab_type": "text"
      },
      "source": [
        "Identify Romania's ranking in terms of 'Trust in Government'."
      ]
    },
    {
      "cell_type": "code",
      "metadata": {
        "id": "5g0HBGN9VxUU",
        "colab_type": "code",
        "colab": {}
      },
      "source": [
        "# Insert your code here!"
      ],
      "execution_count": 0,
      "outputs": []
    },
    {
      "cell_type": "markdown",
      "metadata": {
        "id": "2VNSjY40V0Of",
        "colab_type": "text"
      },
      "source": [
        "Create a scatter plot in terms of 'Freedom' and 'Trust in Government'."
      ]
    },
    {
      "cell_type": "code",
      "metadata": {
        "id": "VjmKem8hV-k-",
        "colab_type": "code",
        "colab": {}
      },
      "source": [
        "# Insert your code here!"
      ],
      "execution_count": 0,
      "outputs": []
    },
    {
      "cell_type": "markdown",
      "metadata": {
        "id": "543rGnDRWC6P",
        "colab_type": "text"
      },
      "source": [
        "Find what country has the highest and the lowest 'Generosity' level, respectively."
      ]
    },
    {
      "cell_type": "code",
      "metadata": {
        "id": "YvhYCzcLWXje",
        "colab_type": "code",
        "colab": {}
      },
      "source": [
        "# Insert your code here# Insert your code here!"
      ],
      "execution_count": 0,
      "outputs": []
    },
    {
      "cell_type": "markdown",
      "metadata": {
        "id": "_JJdxD0-WmLf",
        "colab_type": "text"
      },
      "source": [
        "Create a bar chart with the GDPs of Romania, Japan, and Russia"
      ]
    },
    {
      "cell_type": "code",
      "metadata": {
        "id": "AMaIhqC8Ws2D",
        "colab_type": "code",
        "colab": {}
      },
      "source": [
        "# Insert your code here!"
      ],
      "execution_count": 0,
      "outputs": []
    },
    {
      "cell_type": "markdown",
      "metadata": {
        "id": "BaqK7MIVW9dB",
        "colab_type": "text"
      },
      "source": [
        "# Bonus Coding Challenge 2\n",
        "We will now analyse the Super Hero Dataset https://raw.githubusercontent.com/bucharestschoolofai/python_crash_course/master/heroes_information.csv"
      ]
    },
    {
      "cell_type": "code",
      "metadata": {
        "id": "Z-cfpDUhXn8p",
        "colab_type": "code",
        "colab": {}
      },
      "source": [
        "# Insert your code here!"
      ],
      "execution_count": 0,
      "outputs": []
    },
    {
      "cell_type": "markdown",
      "metadata": {
        "id": "Ef1HK-vIXoTG",
        "colab_type": "text"
      },
      "source": [
        "Find out how many super heroes have blue eyes."
      ]
    },
    {
      "cell_type": "code",
      "metadata": {
        "id": "9ynJV3JCXxB2",
        "colab_type": "code",
        "colab": {}
      },
      "source": [
        "# Insert your code here!"
      ],
      "execution_count": 0,
      "outputs": []
    },
    {
      "cell_type": "markdown",
      "metadata": {
        "id": "VP6L1HbPX-Yg",
        "colab_type": "text"
      },
      "source": [
        "Create a a bar chart of mean weight, in terms of alignment. Pay attention to '-99', value used as placeholder where data wasn't available."
      ]
    },
    {
      "cell_type": "code",
      "metadata": {
        "id": "FItFFbteYLFe",
        "colab_type": "code",
        "colab": {}
      },
      "source": [
        "# Insert your code here!"
      ],
      "execution_count": 0,
      "outputs": []
    },
    {
      "cell_type": "markdown",
      "metadata": {
        "id": "AqMbrsK8YVJg",
        "colab_type": "text"
      },
      "source": [
        "Find out how many heroes are published by Marvel and how many by DC Comics"
      ]
    },
    {
      "cell_type": "code",
      "metadata": {
        "id": "Dqdz5IwXYUbz",
        "colab_type": "code",
        "colab": {}
      },
      "source": [
        "# Insert your code here!"
      ],
      "execution_count": 0,
      "outputs": []
    },
    {
      "cell_type": "markdown",
      "metadata": {
        "id": "qd_QxoOsY9_7",
        "colab_type": "text"
      },
      "source": [
        "How many male characters are aligned as good? How many female characters are aligned as good?"
      ]
    },
    {
      "cell_type": "code",
      "metadata": {
        "id": "002_kZ28ZP5-",
        "colab_type": "code",
        "colab": {}
      },
      "source": [
        "# Insert your code here!"
      ],
      "execution_count": 0,
      "outputs": []
    },
    {
      "cell_type": "markdown",
      "metadata": {
        "id": "YXZQBxgMZaSK",
        "colab_type": "text"
      },
      "source": [
        "# Bonus Coding Challenge 3\n",
        "Freestyle! Choose one of the datasets and generate insights!\n",
        "\n",
        "Top 5000 Youtube channels data\n",
        "\n",
        "https://raw.githubusercontent.com/bucharestschoolofai/python_crash_course/master/data.csv\n",
        "\n",
        "US Mass Shootings\n",
        "\n",
        "https://raw.githubusercontent.com/bucharestschoolofai/python_crash_course/master/Mass%20Shootings%20Dataset%20Ver%205.csv\n",
        "\n"
      ]
    },
    {
      "cell_type": "code",
      "metadata": {
        "id": "Rs5mx9eLcYu6",
        "colab_type": "code",
        "colab": {}
      },
      "source": [
        "# Insert your code here!"
      ],
      "execution_count": 0,
      "outputs": []
    }
  ]
}