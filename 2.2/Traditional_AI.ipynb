{
  "nbformat": 4,
  "nbformat_minor": 0,
  "metadata": {
    "colab": {
      "name": "Traditional AI",
      "provenance": [],
      "collapsed_sections": [],
      "toc_visible": true
    },
    "kernelspec": {
      "name": "python3",
      "display_name": "Python 3"
    }
  },
  "cells": [
    {
      "cell_type": "markdown",
      "metadata": {
        "id": "ErreoBL6M0Tb",
        "colab_type": "text"
      },
      "source": [
        "# Epoch 2.2 - Traditional AI\n",
        "\n",
        "## Resources\n",
        "This epoch we will explore methods for **EDA** (Exploratory Data Analysis), **Data Cleaning** and **Pre-Processing** and methods for applying simple **Regression** and **Classification** techniques.\n",
        "\n",
        "\n"
      ]
    },
    {
      "cell_type": "markdown",
      "metadata": {
        "id": "HIyX6CHYOasd",
        "colab_type": "text"
      },
      "source": [
        "For more information on these topics, do refer to some of these resources:\n",
        "\n",
        "- [Stanford Lecture on Exploratory Data Analysis](https://web.stanford.edu/class/archive/cs/cs448b/cs448b.1166/cgi-bin/wiki/images/4/44/Lec448B-20160406.pdf)\n",
        "\n",
        "- [Stanford Lecture on Linear Regression](https://lagunita.stanford.edu/c4x/HumanitiesScience/StatLearning/asset/linear_regression.pdf)\n",
        "\n",
        "- Classification\n",
        "  - [Tree-based Methods](https://lagunita.stanford.edu/c4x/HumanitiesScience/StatLearning/asset/trees.pdf)\n",
        "  - K-Nearest Neighbors\n",
        "    - [Demo](http://vision.stanford.edu/teaching/cs231n-demos/knn/)\n",
        "    - [MIT Lecture](https://ocw.mit.edu/courses/sloan-school-of-management/15-097-prediction-machine-learning-and-statistics-spring-2012/lecture-notes/MIT15_097S12_lec06.pdf)\n",
        "  - [SVM](https://www.cs.princeton.edu/courses/archive/spring16/cos495/slides/ML_basics_lecture4_SVM_I.pdf)\n"
      ]
    },
    {
      "cell_type": "markdown",
      "metadata": {
        "id": "0U0ma9blNoje",
        "colab_type": "text"
      },
      "source": [
        "\n",
        "## Cheat-Sheets\n",
        "\n",
        "These **cheat-sheets** are incredibly useful for when getting your hands dirty. Keep them close:\n",
        "\n",
        "- [numpy](https://s3.amazonaws.com/assets.datacamp.com/blog_assets/Numpy_Python_Cheat_Sheet.pdf)\n",
        "- [pandas](https://github.com/pandas-dev/pandas/blob/master/doc/cheatsheet/Pandas_Cheat_Sheet.pdf)\n",
        "- [sklearn](https://s3.amazonaws.com/assets.datacamp.com/blog_assets/Scikit_Learn_Cheat_Sheet_Python.pdf)\n"
      ]
    },
    {
      "cell_type": "markdown",
      "metadata": {
        "id": "8SJ6gZFMQe2b",
        "colab_type": "text"
      },
      "source": [
        "## Dog Breeds Dataset\n",
        "\n",
        "\n",
        "This dataset contains, on each row, a dog. There is some information about the height of a dog, its weight, and some other (maybe redundant?) information.\n",
        "\n",
        "**The goal is to make a model that, given some information about a dog, finds out its species.**\n",
        "\n",
        "**In the same note, we ought to find a model that predicts a dog's longevity.**\n",
        "\n",
        "There are also some **missing values**. Some of the values have very large values, relative to others.\n",
        "\n",
        "We will explore how to clean this and pre-process this dataset. Check out [sklearn's preprocessing docs!](https://scikit-learn.org/stable/modules/preprocessing.html)"
      ]
    },
    {
      "cell_type": "markdown",
      "metadata": {
        "id": "Qni2sNTwR8uX",
        "colab_type": "text"
      },
      "source": [
        "## 1. Imports and reading the data."
      ]
    },
    {
      "cell_type": "code",
      "metadata": {
        "id": "KW3tvb0_MlnJ",
        "colab_type": "code",
        "colab": {}
      },
      "source": [
        "import pandas as pd\n",
        "import numpy as np\n",
        "import matplotlib.pyplot as plt\n",
        "%matplotlib inline\n",
        "\n",
        "import seaborn as sns"
      ],
      "execution_count": 0,
      "outputs": []
    },
    {
      "cell_type": "code",
      "metadata": {
        "id": "kWDa3kisQdJv",
        "colab_type": "code",
        "outputId": "12d42734-21aa-4c24-d07a-3d3a0515aadc",
        "colab": {
          "base_uri": "https://localhost:8080/",
          "height": 202
        }
      },
      "source": [
        "# download the data from github\n",
        "!wget https://raw.githubusercontent.com/cosmaadrian/dog-breeds/master/breeds.csv"
      ],
      "execution_count": 0,
      "outputs": [
        {
          "output_type": "stream",
          "text": [
            "--2019-11-08 14:22:35--  https://raw.githubusercontent.com/cosmaadrian/dog-breeds/master/breeds.csv\n",
            "Resolving raw.githubusercontent.com (raw.githubusercontent.com)... 151.101.0.133, 151.101.64.133, 151.101.128.133, ...\n",
            "Connecting to raw.githubusercontent.com (raw.githubusercontent.com)|151.101.0.133|:443... connected.\n",
            "HTTP request sent, awaiting response... 200 OK\n",
            "Length: 65864 (64K) [text/plain]\n",
            "Saving to: ‘breeds.csv’\n",
            "\n",
            "\rbreeds.csv            0%[                    ]       0  --.-KB/s               \rbreeds.csv          100%[===================>]  64.32K  --.-KB/s    in 0.01s   \n",
            "\n",
            "2019-11-08 14:22:35 (4.47 MB/s) - ‘breeds.csv’ saved [65864/65864]\n",
            "\n"
          ],
          "name": "stdout"
        }
      ]
    },
    {
      "cell_type": "code",
      "metadata": {
        "id": "lxqgYTH9Mu20",
        "colab_type": "code",
        "outputId": "a0e7c93f-a995-4b4f-c7cb-b9251299ac5c",
        "colab": {
          "base_uri": "https://localhost:8080/",
          "height": 195
        }
      },
      "source": [
        "df = pd.read_csv('breeds.csv')\n",
        "df.head()"
      ],
      "execution_count": 0,
      "outputs": [
        {
          "output_type": "execute_result",
          "data": {
            "text/html": [
              "<div>\n",
              "<style scoped>\n",
              "    .dataframe tbody tr th:only-of-type {\n",
              "        vertical-align: middle;\n",
              "    }\n",
              "\n",
              "    .dataframe tbody tr th {\n",
              "        vertical-align: top;\n",
              "    }\n",
              "\n",
              "    .dataframe thead th {\n",
              "        text-align: right;\n",
              "    }\n",
              "</style>\n",
              "<table border=\"1\" class=\"dataframe\">\n",
              "  <thead>\n",
              "    <tr style=\"text-align: right;\">\n",
              "      <th></th>\n",
              "      <th>Breed Name</th>\n",
              "      <th>Weight(g)</th>\n",
              "      <th>Height(cm)</th>\n",
              "      <th>Longevity(yrs)</th>\n",
              "      <th>Energy Level</th>\n",
              "      <th>Attention Needs</th>\n",
              "      <th>Coat Length</th>\n",
              "      <th>Sex</th>\n",
              "      <th>Owner Name</th>\n",
              "    </tr>\n",
              "  </thead>\n",
              "  <tbody>\n",
              "    <tr>\n",
              "      <th>0</th>\n",
              "      <td>Australian Shepherd</td>\n",
              "      <td>21041.6994</td>\n",
              "      <td>NaN</td>\n",
              "      <td>12.9971</td>\n",
              "      <td>high</td>\n",
              "      <td>high</td>\n",
              "      <td>short</td>\n",
              "      <td>male</td>\n",
              "      <td>Rodriguez</td>\n",
              "    </tr>\n",
              "    <tr>\n",
              "      <th>1</th>\n",
              "      <td>Pit Bull</td>\n",
              "      <td>16991.8668</td>\n",
              "      <td>45.1886</td>\n",
              "      <td>12.0789</td>\n",
              "      <td>med</td>\n",
              "      <td>high</td>\n",
              "      <td>short</td>\n",
              "      <td>female</td>\n",
              "      <td>Hughes</td>\n",
              "    </tr>\n",
              "    <tr>\n",
              "      <th>2</th>\n",
              "      <td>Boxer</td>\n",
              "      <td>28429.3520</td>\n",
              "      <td>57.4321</td>\n",
              "      <td>9.7405</td>\n",
              "      <td>high</td>\n",
              "      <td>med</td>\n",
              "      <td>short</td>\n",
              "      <td>female</td>\n",
              "      <td>Jimenez</td>\n",
              "    </tr>\n",
              "    <tr>\n",
              "      <th>3</th>\n",
              "      <td>French Bulldog</td>\n",
              "      <td>11793.2472</td>\n",
              "      <td>NaN</td>\n",
              "      <td>10.6215</td>\n",
              "      <td>med</td>\n",
              "      <td>high</td>\n",
              "      <td>short</td>\n",
              "      <td>male</td>\n",
              "      <td>Ortiz</td>\n",
              "    </tr>\n",
              "    <tr>\n",
              "      <th>4</th>\n",
              "      <td>Australian Shepherd</td>\n",
              "      <td>26746.6297</td>\n",
              "      <td>NaN</td>\n",
              "      <td>12.9608</td>\n",
              "      <td>high</td>\n",
              "      <td>high</td>\n",
              "      <td>med</td>\n",
              "      <td>male</td>\n",
              "      <td>Blake</td>\n",
              "    </tr>\n",
              "  </tbody>\n",
              "</table>\n",
              "</div>"
            ],
            "text/plain": [
              "            Breed Name   Weight(g)  Height(cm)  ...  Coat Length     Sex Owner Name\n",
              "0  Australian Shepherd  21041.6994         NaN  ...        short    male  Rodriguez\n",
              "1             Pit Bull  16991.8668     45.1886  ...        short  female     Hughes\n",
              "2                Boxer  28429.3520     57.4321  ...        short  female    Jimenez\n",
              "3       French Bulldog  11793.2472         NaN  ...        short    male      Ortiz\n",
              "4  Australian Shepherd  26746.6297         NaN  ...          med    male      Blake\n",
              "\n",
              "[5 rows x 9 columns]"
            ]
          },
          "metadata": {
            "tags": []
          },
          "execution_count": 3
        }
      ]
    },
    {
      "cell_type": "markdown",
      "metadata": {
        "id": "eZLSPADHTSSf",
        "colab_type": "text"
      },
      "source": [
        "### Right off the bat, what can we observe here?\n",
        "\n",
        "![](https://celebritydogwatcher.com/wp-content/uploads/2019/04/6c9bf05d7db622a091489726a4c8ed4f.jpeg)"
      ]
    },
    {
      "cell_type": "markdown",
      "metadata": {
        "id": "7PlzhuveTXmS",
        "colab_type": "text"
      },
      "source": [
        "# Coding Challenge #1 - 2 minutes\n",
        "\n",
        "Use pandas to explore this dataset. \n",
        "\n",
        "- df.unique() for checking out unique values\n",
        "\n",
        "- use df.isnull() for checking if there are missing values in the dataframe.\n",
        "\n",
        "- use df.max(), df.min(), df.std(), df.mean() for statistical information on numeric columns."
      ]
    },
    {
      "cell_type": "code",
      "metadata": {
        "id": "MWiDO6XvMydk",
        "colab_type": "code",
        "colab": {}
      },
      "source": [
        "# TODO explore the dataset."
      ],
      "execution_count": 0,
      "outputs": []
    },
    {
      "cell_type": "markdown",
      "metadata": {
        "id": "DO8VHi4NVFaP",
        "colab_type": "text"
      },
      "source": [
        "## 2. Categorical Variables and Plotting\n",
        "\n",
        "Statistical information like mean and standard deviation are informative, but a more visual representation of the dataset could be more useful in discovering our data.\n",
        "\n",
        "In general, EDA relies heavily in visualizations and **asking questions** based on those visualizations.\n",
        "\n",
        "Let's try to plot something from our data."
      ]
    },
    {
      "cell_type": "markdown",
      "metadata": {
        "id": "i9eSVOhhVmeA",
        "colab_type": "text"
      },
      "source": [
        "We can see that some columns are categorical - which is to say that their values are not continous, but are in a set of values. And there are strings. We should encode these values, to be compatible with our algorithms."
      ]
    },
    {
      "cell_type": "code",
      "metadata": {
        "id": "TCDUh0_sViZE",
        "colab_type": "code",
        "colab": {}
      },
      "source": [
        "# Using pandas, we can assign numbers to each of our categories.\n",
        "df['Breed Name'] = df['Breed Name'].astype('category').cat.codes\n",
        "df['Energy Level'] = df['Energy Level'].astype('category').cat.codes\n",
        "df['Attention Needs'] = df['Attention Needs'].astype('category').cat.codes\n",
        "df['Coat Length'] = df['Coat Length'].astype('category').cat.codes\n",
        "df['Sex'] = df['Sex'].astype('category').cat.codes\n",
        "df['Owner Name'] = df['Owner Name'].astype('category').cat.codes"
      ],
      "execution_count": 0,
      "outputs": []
    },
    {
      "cell_type": "code",
      "metadata": {
        "id": "fJqT_dOxmA1m",
        "colab_type": "code",
        "outputId": "178daf7d-731a-41ba-a582-24bfd5aa0ef6",
        "colab": {
          "base_uri": "https://localhost:8080/",
          "height": 195
        }
      },
      "source": [
        "df.head()"
      ],
      "execution_count": 0,
      "outputs": [
        {
          "output_type": "execute_result",
          "data": {
            "text/html": [
              "<div>\n",
              "<style scoped>\n",
              "    .dataframe tbody tr th:only-of-type {\n",
              "        vertical-align: middle;\n",
              "    }\n",
              "\n",
              "    .dataframe tbody tr th {\n",
              "        vertical-align: top;\n",
              "    }\n",
              "\n",
              "    .dataframe thead th {\n",
              "        text-align: right;\n",
              "    }\n",
              "</style>\n",
              "<table border=\"1\" class=\"dataframe\">\n",
              "  <thead>\n",
              "    <tr style=\"text-align: right;\">\n",
              "      <th></th>\n",
              "      <th>Breed Name</th>\n",
              "      <th>Weight(g)</th>\n",
              "      <th>Height(cm)</th>\n",
              "      <th>Longevity(yrs)</th>\n",
              "      <th>Energy Level</th>\n",
              "      <th>Attention Needs</th>\n",
              "      <th>Coat Length</th>\n",
              "      <th>Sex</th>\n",
              "      <th>Owner Name</th>\n",
              "    </tr>\n",
              "  </thead>\n",
              "  <tbody>\n",
              "    <tr>\n",
              "      <th>0</th>\n",
              "      <td>0</td>\n",
              "      <td>21041.6994</td>\n",
              "      <td>NaN</td>\n",
              "      <td>12.9971</td>\n",
              "      <td>0</td>\n",
              "      <td>0</td>\n",
              "      <td>2</td>\n",
              "      <td>1</td>\n",
              "      <td>384</td>\n",
              "    </tr>\n",
              "    <tr>\n",
              "      <th>1</th>\n",
              "      <td>3</td>\n",
              "      <td>16991.8668</td>\n",
              "      <td>45.1886</td>\n",
              "      <td>12.0789</td>\n",
              "      <td>2</td>\n",
              "      <td>0</td>\n",
              "      <td>2</td>\n",
              "      <td>0</td>\n",
              "      <td>227</td>\n",
              "    </tr>\n",
              "    <tr>\n",
              "      <th>2</th>\n",
              "      <td>1</td>\n",
              "      <td>28429.3520</td>\n",
              "      <td>57.4321</td>\n",
              "      <td>9.7405</td>\n",
              "      <td>0</td>\n",
              "      <td>1</td>\n",
              "      <td>2</td>\n",
              "      <td>0</td>\n",
              "      <td>237</td>\n",
              "    </tr>\n",
              "    <tr>\n",
              "      <th>3</th>\n",
              "      <td>2</td>\n",
              "      <td>11793.2472</td>\n",
              "      <td>NaN</td>\n",
              "      <td>10.6215</td>\n",
              "      <td>2</td>\n",
              "      <td>0</td>\n",
              "      <td>2</td>\n",
              "      <td>1</td>\n",
              "      <td>341</td>\n",
              "    </tr>\n",
              "    <tr>\n",
              "      <th>4</th>\n",
              "      <td>0</td>\n",
              "      <td>26746.6297</td>\n",
              "      <td>NaN</td>\n",
              "      <td>12.9608</td>\n",
              "      <td>0</td>\n",
              "      <td>0</td>\n",
              "      <td>1</td>\n",
              "      <td>1</td>\n",
              "      <td>45</td>\n",
              "    </tr>\n",
              "  </tbody>\n",
              "</table>\n",
              "</div>"
            ],
            "text/plain": [
              "   Breed Name   Weight(g)  Height(cm)  ...  Coat Length  Sex  Owner Name\n",
              "0           0  21041.6994         NaN  ...            2    1         384\n",
              "1           3  16991.8668     45.1886  ...            2    0         227\n",
              "2           1  28429.3520     57.4321  ...            2    0         237\n",
              "3           2  11793.2472         NaN  ...            2    1         341\n",
              "4           0  26746.6297         NaN  ...            1    1          45\n",
              "\n",
              "[5 rows x 9 columns]"
            ]
          },
          "metadata": {
            "tags": []
          },
          "execution_count": 6
        }
      ]
    },
    {
      "cell_type": "code",
      "metadata": {
        "id": "DBszN4r9XP0i",
        "colab_type": "code",
        "outputId": "5afeb753-d111-4a52-aacf-444c2be5a7d5",
        "colab": {
          "base_uri": "https://localhost:8080/",
          "height": 386
        }
      },
      "source": [
        "# sns.lmplot(x='Height(cm)', y='Longevity(yrs)', hue='Breed Name', data=df, fit_reg=False)\n",
        "sns.lmplot(x='Height(cm)', y='Weight(g)', hue='Breed Name', data=df, fit_reg=False)"
      ],
      "execution_count": 0,
      "outputs": [
        {
          "output_type": "execute_result",
          "data": {
            "text/plain": [
              "<seaborn.axisgrid.FacetGrid at 0x7fdebe766828>"
            ]
          },
          "metadata": {
            "tags": []
          },
          "execution_count": 7
        },
        {
          "output_type": "display_data",
          "data": {
            "image/png": "[encoded data removed]",
            "text/plain": [
              "<Figure size 430.125x360 with 1 Axes>"
            ]
          },
          "metadata": {
            "tags": []
          }
        }
      ]
    },
    {
      "cell_type": "code",
      "metadata": {
        "id": "kSU-R8lWmUcJ",
        "colab_type": "code",
        "outputId": "322a33e3-3822-462f-8295-f333f401a637",
        "colab": {
          "base_uri": "https://localhost:8080/",
          "height": 296
        }
      },
      "source": [
        "sns.distplot(df[df['Breed Name'] == 0]['Sex'], hist=False)\n",
        "sns.distplot(df[df['Breed Name'] == 1]['Sex'], hist=False)\n",
        "sns.distplot(df[df['Breed Name'] == 2]['Sex'], hist=False)\n",
        "sns.distplot(df[df['Breed Name'] == 3]['Sex'], hist=False)"
      ],
      "execution_count": 0,
      "outputs": [
        {
          "output_type": "execute_result",
          "data": {
            "text/plain": [
              "<matplotlib.axes._subplots.AxesSubplot at 0x7fdeadb3fe10>"
            ]
          },
          "metadata": {
            "tags": []
          },
          "execution_count": 8
        },
        {
          "output_type": "display_data",
          "data": {
            "image/png": "[encoded data removed]",
            "text/plain": [
              "<Figure size 432x288 with 1 Axes>"
            ]
          },
          "metadata": {
            "tags": []
          }
        }
      ]
    },
    {
      "cell_type": "code",
      "metadata": {
        "id": "40RBCZ-LntzY",
        "colab_type": "code",
        "outputId": "fe8cf821-b737-43bd-99de-f99e04d1fe6b",
        "colab": {
          "base_uri": "https://localhost:8080/",
          "height": 296
        }
      },
      "source": [
        "# Let's see for a class if there is some discernable difference in Weight for a female dog and a male dog.\n",
        "\n",
        "sns.distplot(df[(df['Sex'] == 0) & (df['Breed Name'] == 0)]['Weight(g)'], hist=False)\n",
        "sns.distplot(df[(df['Sex'] == 1) & (df['Breed Name'] == 0)]['Weight(g)'], hist=False)"
      ],
      "execution_count": 0,
      "outputs": [
        {
          "output_type": "execute_result",
          "data": {
            "text/plain": [
              "<matplotlib.axes._subplots.AxesSubplot at 0x7fdeadba48d0>"
            ]
          },
          "metadata": {
            "tags": []
          },
          "execution_count": 9
        },
        {
          "output_type": "display_data",
          "data": {
            "image/png": "[encoded data removed]",
            "text/plain": [
              "<Figure size 432x288 with 1 Axes>"
            ]
          },
          "metadata": {
            "tags": []
          }
        }
      ]
    },
    {
      "cell_type": "markdown",
      "metadata": {
        "id": "n-0nwYIpopuW",
        "colab_type": "text"
      },
      "source": [
        "Looks like the *Sex* attribute is useless for our purposes. Let's get rid of it!"
      ]
    },
    {
      "cell_type": "code",
      "metadata": {
        "id": "oL-yKlDWowix",
        "colab_type": "code",
        "outputId": "c39572ff-1492-4d63-b6ba-87c541df58a1",
        "colab": {
          "base_uri": "https://localhost:8080/",
          "height": 195
        }
      },
      "source": [
        "df = df.drop(['Sex'], axis=1)\n",
        "df.head()"
      ],
      "execution_count": 0,
      "outputs": [
        {
          "output_type": "execute_result",
          "data": {
            "text/html": [
              "<div>\n",
              "<style scoped>\n",
              "    .dataframe tbody tr th:only-of-type {\n",
              "        vertical-align: middle;\n",
              "    }\n",
              "\n",
              "    .dataframe tbody tr th {\n",
              "        vertical-align: top;\n",
              "    }\n",
              "\n",
              "    .dataframe thead th {\n",
              "        text-align: right;\n",
              "    }\n",
              "</style>\n",
              "<table border=\"1\" class=\"dataframe\">\n",
              "  <thead>\n",
              "    <tr style=\"text-align: right;\">\n",
              "      <th></th>\n",
              "      <th>Breed Name</th>\n",
              "      <th>Weight(g)</th>\n",
              "      <th>Height(cm)</th>\n",
              "      <th>Longevity(yrs)</th>\n",
              "      <th>Energy Level</th>\n",
              "      <th>Attention Needs</th>\n",
              "      <th>Coat Length</th>\n",
              "      <th>Owner Name</th>\n",
              "    </tr>\n",
              "  </thead>\n",
              "  <tbody>\n",
              "    <tr>\n",
              "      <th>0</th>\n",
              "      <td>0</td>\n",
              "      <td>21041.6994</td>\n",
              "      <td>NaN</td>\n",
              "      <td>12.9971</td>\n",
              "      <td>0</td>\n",
              "      <td>0</td>\n",
              "      <td>2</td>\n",
              "      <td>384</td>\n",
              "    </tr>\n",
              "    <tr>\n",
              "      <th>1</th>\n",
              "      <td>3</td>\n",
              "      <td>16991.8668</td>\n",
              "      <td>45.1886</td>\n",
              "      <td>12.0789</td>\n",
              "      <td>2</td>\n",
              "      <td>0</td>\n",
              "      <td>2</td>\n",
              "      <td>227</td>\n",
              "    </tr>\n",
              "    <tr>\n",
              "      <th>2</th>\n",
              "      <td>1</td>\n",
              "      <td>28429.3520</td>\n",
              "      <td>57.4321</td>\n",
              "      <td>9.7405</td>\n",
              "      <td>0</td>\n",
              "      <td>1</td>\n",
              "      <td>2</td>\n",
              "      <td>237</td>\n",
              "    </tr>\n",
              "    <tr>\n",
              "      <th>3</th>\n",
              "      <td>2</td>\n",
              "      <td>11793.2472</td>\n",
              "      <td>NaN</td>\n",
              "      <td>10.6215</td>\n",
              "      <td>2</td>\n",
              "      <td>0</td>\n",
              "      <td>2</td>\n",
              "      <td>341</td>\n",
              "    </tr>\n",
              "    <tr>\n",
              "      <th>4</th>\n",
              "      <td>0</td>\n",
              "      <td>26746.6297</td>\n",
              "      <td>NaN</td>\n",
              "      <td>12.9608</td>\n",
              "      <td>0</td>\n",
              "      <td>0</td>\n",
              "      <td>1</td>\n",
              "      <td>45</td>\n",
              "    </tr>\n",
              "  </tbody>\n",
              "</table>\n",
              "</div>"
            ],
            "text/plain": [
              "   Breed Name   Weight(g)  Height(cm)  ...  Attention Needs  Coat Length  Owner Name\n",
              "0           0  21041.6994         NaN  ...                0            2         384\n",
              "1           3  16991.8668     45.1886  ...                0            2         227\n",
              "2           1  28429.3520     57.4321  ...                1            2         237\n",
              "3           2  11793.2472         NaN  ...                0            2         341\n",
              "4           0  26746.6297         NaN  ...                0            1          45\n",
              "\n",
              "[5 rows x 8 columns]"
            ]
          },
          "metadata": {
            "tags": []
          },
          "execution_count": 10
        }
      ]
    },
    {
      "cell_type": "code",
      "metadata": {
        "id": "avoKq_tio4qk",
        "colab_type": "code",
        "colab": {}
      },
      "source": [
        "# What is up with Owner Name? Can that help us in a way?\n",
        "\n",
        "# TODO: Decide what to do with the 'Owner Name'"
      ],
      "execution_count": 0,
      "outputs": []
    },
    {
      "cell_type": "markdown",
      "metadata": {
        "id": "ldVDEzgdXN9y",
        "colab_type": "text"
      },
      "source": [
        "## 3. Missing values\n",
        "\n",
        "We can see that the **height** column has some values that are missing. \n",
        "\n",
        "Missing values are a problem. There are multiple techniques that can help us fix this."
      ]
    },
    {
      "cell_type": "code",
      "metadata": {
        "id": "q-OO48UpXiEl",
        "colab_type": "code",
        "outputId": "f38163c4-8167-4a8d-9afc-f63f166ea066",
        "colab": {
          "base_uri": "https://localhost:8080/",
          "height": 298
        }
      },
      "source": [
        "print(df['Height(cm)'].isnull().count())\n",
        "sns.scatterplot(range(len(df.index)), df['Height(cm)'])"
      ],
      "execution_count": 0,
      "outputs": [
        {
          "output_type": "stream",
          "text": [
            "1000\n"
          ],
          "name": "stdout"
        },
        {
          "output_type": "execute_result",
          "data": {
            "text/plain": [
              "<matplotlib.axes._subplots.AxesSubplot at 0x7fdead623588>"
            ]
          },
          "metadata": {
            "tags": []
          },
          "execution_count": 12
        },
        {
          "output_type": "display_data",
          "data": {
            "image/png": "[encoded data removed]",
            "text/plain": [
              "<Figure size 432x288 with 1 Axes>"
            ]
          },
          "metadata": {
            "tags": []
          }
        }
      ]
    },
    {
      "cell_type": "markdown",
      "metadata": {
        "id": "kr0m_sy7tQet",
        "colab_type": "text"
      },
      "source": [
        "### Coding Challenge #2 -  5 minutes\n",
        "\n",
        "Use `sklearn.impute.SimpleImputer` to fill in the blank values for Height(cm)."
      ]
    },
    {
      "cell_type": "code",
      "metadata": {
        "id": "4Bz3jJjQtuME",
        "colab_type": "code",
        "colab": {}
      },
      "source": [
        "# TODO check out the documentation for SimpleImputer \n",
        "# https://scikit-learn.org/stable/modules/generated/sklearn.impute.SimpleImputer.html\n",
        "\n",
        "# Try out different strategies for imputing values and plot the results.\n",
        "# DON'T use the Breed Name for imputing class-specific Heights. Remember that we should later predict this column using our model.\n",
        "from sklearn.impute import SimpleImputer\n",
        "\n",
        "# sns.scatterplot(range(len(df.index)), df['Height Imputed'])\n",
        "\n",
        "# your code here"
      ],
      "execution_count": 0,
      "outputs": []
    },
    {
      "cell_type": "markdown",
      "metadata": {
        "id": "FBBKSMKvX3xi",
        "colab_type": "text"
      },
      "source": [
        "## 3. Normalization\n",
        "We see that that the *Weight* and *Height* columns have very large values. We should normalize these values. The goal of normalization is to change the values of numeric columns in the dataset to a common scale, without distorting differences in the ranges of values. "
      ]
    },
    {
      "cell_type": "markdown",
      "metadata": {
        "id": "4hj1c0Zjuo3X",
        "colab_type": "text"
      },
      "source": [
        "## Coding Challenge #3 - 5 minutes"
      ]
    },
    {
      "cell_type": "code",
      "metadata": {
        "id": "--gt-j-Auske",
        "colab_type": "code",
        "colab": {}
      },
      "source": [
        "# Use sklearn.preprocessing.StandardScaler and sklearn.preprocessing.MinMaxScaler\n",
        "# to normalize the values in the Weight and Height columns.\n",
        "\n",
        "from sklearn.preprocessing import StandardScaler, MinMaxScaler\n",
        "\n",
        "# your code here"
      ],
      "execution_count": 0,
      "outputs": []
    },
    {
      "cell_type": "markdown",
      "metadata": {
        "id": "pYDswUVQZPse",
        "colab_type": "text"
      },
      "source": [
        "## 4. Encoding categorical features.\n",
        "\n",
        "Categorical numbers like (1, 2, 3, 4) imply some sort of ordering of the values. Maybe that is true like in the case of olympic prizes. Most of the time we don't want that implicit ordering. \n",
        "\n",
        "For that we will use **one-hot encoding.**\n"
      ]
    },
    {
      "cell_type": "code",
      "metadata": {
        "id": "jqWDOrrmaerI",
        "colab_type": "code",
        "outputId": "3ff87230-8134-4547-f813-0647df49038b",
        "colab": {
          "base_uri": "https://localhost:8080/",
          "height": 212
        }
      },
      "source": [
        "df = pd.concat([\n",
        "         df,\n",
        "         pd.get_dummies(df['Coat Length'], prefix='Coat Length'),\n",
        "         pd.get_dummies(df['Energy Level'], prefix='Energy Level'),\n",
        "         pd.get_dummies(df['Attention Needs'], prefix='Attention Needs'),\n",
        "], axis=1).drop([\n",
        "         'Coat Length',\n",
        "         'Energy Level', \n",
        "         'Attention Needs'\n",
        "], axis=1)\n",
        "\n",
        "df.head()"
      ],
      "execution_count": 0,
      "outputs": [
        {
          "output_type": "execute_result",
          "data": {
            "text/html": [
              "<div>\n",
              "<style scoped>\n",
              "    .dataframe tbody tr th:only-of-type {\n",
              "        vertical-align: middle;\n",
              "    }\n",
              "\n",
              "    .dataframe tbody tr th {\n",
              "        vertical-align: top;\n",
              "    }\n",
              "\n",
              "    .dataframe thead th {\n",
              "        text-align: right;\n",
              "    }\n",
              "</style>\n",
              "<table border=\"1\" class=\"dataframe\">\n",
              "  <thead>\n",
              "    <tr style=\"text-align: right;\">\n",
              "      <th></th>\n",
              "      <th>Breed Name</th>\n",
              "      <th>Weight(g)</th>\n",
              "      <th>Height(cm)</th>\n",
              "      <th>Longevity(yrs)</th>\n",
              "      <th>Owner Name</th>\n",
              "      <th>Height Imputed</th>\n",
              "      <th>Coat Length_0</th>\n",
              "      <th>Coat Length_1</th>\n",
              "      <th>Coat Length_2</th>\n",
              "      <th>Energy Level_0</th>\n",
              "      <th>Energy Level_1</th>\n",
              "      <th>Energy Level_2</th>\n",
              "      <th>Attention Needs_0</th>\n",
              "      <th>Attention Needs_1</th>\n",
              "    </tr>\n",
              "  </thead>\n",
              "  <tbody>\n",
              "    <tr>\n",
              "      <th>0</th>\n",
              "      <td>0</td>\n",
              "      <td>21041.6994</td>\n",
              "      <td>NaN</td>\n",
              "      <td>12.9971</td>\n",
              "      <td>384</td>\n",
              "      <td>46.633936</td>\n",
              "      <td>0</td>\n",
              "      <td>0</td>\n",
              "      <td>1</td>\n",
              "      <td>1</td>\n",
              "      <td>0</td>\n",
              "      <td>0</td>\n",
              "      <td>1</td>\n",
              "      <td>0</td>\n",
              "    </tr>\n",
              "    <tr>\n",
              "      <th>1</th>\n",
              "      <td>3</td>\n",
              "      <td>16991.8668</td>\n",
              "      <td>45.1886</td>\n",
              "      <td>12.0789</td>\n",
              "      <td>227</td>\n",
              "      <td>45.188600</td>\n",
              "      <td>0</td>\n",
              "      <td>0</td>\n",
              "      <td>1</td>\n",
              "      <td>0</td>\n",
              "      <td>0</td>\n",
              "      <td>1</td>\n",
              "      <td>1</td>\n",
              "      <td>0</td>\n",
              "    </tr>\n",
              "    <tr>\n",
              "      <th>2</th>\n",
              "      <td>1</td>\n",
              "      <td>28429.3520</td>\n",
              "      <td>57.4321</td>\n",
              "      <td>9.7405</td>\n",
              "      <td>237</td>\n",
              "      <td>57.432100</td>\n",
              "      <td>0</td>\n",
              "      <td>0</td>\n",
              "      <td>1</td>\n",
              "      <td>1</td>\n",
              "      <td>0</td>\n",
              "      <td>0</td>\n",
              "      <td>0</td>\n",
              "      <td>1</td>\n",
              "    </tr>\n",
              "    <tr>\n",
              "      <th>3</th>\n",
              "      <td>2</td>\n",
              "      <td>11793.2472</td>\n",
              "      <td>NaN</td>\n",
              "      <td>10.6215</td>\n",
              "      <td>341</td>\n",
              "      <td>46.633936</td>\n",
              "      <td>0</td>\n",
              "      <td>0</td>\n",
              "      <td>1</td>\n",
              "      <td>0</td>\n",
              "      <td>0</td>\n",
              "      <td>1</td>\n",
              "      <td>1</td>\n",
              "      <td>0</td>\n",
              "    </tr>\n",
              "    <tr>\n",
              "      <th>4</th>\n",
              "      <td>0</td>\n",
              "      <td>26746.6297</td>\n",
              "      <td>NaN</td>\n",
              "      <td>12.9608</td>\n",
              "      <td>45</td>\n",
              "      <td>46.633936</td>\n",
              "      <td>0</td>\n",
              "      <td>1</td>\n",
              "      <td>0</td>\n",
              "      <td>1</td>\n",
              "      <td>0</td>\n",
              "      <td>0</td>\n",
              "      <td>1</td>\n",
              "      <td>0</td>\n",
              "    </tr>\n",
              "  </tbody>\n",
              "</table>\n",
              "</div>"
            ],
            "text/plain": [
              "   Breed Name   Weight(g)  ...  Attention Needs_0  Attention Needs_1\n",
              "0           0  21041.6994  ...                  1                  0\n",
              "1           3  16991.8668  ...                  1                  0\n",
              "2           1  28429.3520  ...                  0                  1\n",
              "3           2  11793.2472  ...                  1                  0\n",
              "4           0  26746.6297  ...                  1                  0\n",
              "\n",
              "[5 rows x 14 columns]"
            ]
          },
          "metadata": {
            "tags": []
          },
          "execution_count": 21
        }
      ]
    },
    {
      "cell_type": "markdown",
      "metadata": {
        "id": "wtSVxCzDZ1Jo",
        "colab_type": "text"
      },
      "source": [
        "## 5. Feature Engineering\n",
        "\n",
        "We can use our domain knowledge to create aditional features for our model. \n",
        "\n",
        "For instance, we know that the **BMI (Body Mass Index)** is equal to the weight over the height of a person. But that can extend to dogs as well. If the model is complex enough, it can uncover such relationships on its own, given enough data. But it could be helpful in some situations to provide such information from the beginning, especially for a weak learner (like linear models)."
      ]
    },
    {
      "cell_type": "code",
      "metadata": {
        "id": "vA97pmC_aPyt",
        "colab_type": "code",
        "colab": {}
      },
      "source": [
        "# TODO: add an aditional column called BMI == Weight / Height."
      ],
      "execution_count": 0,
      "outputs": []
    },
    {
      "cell_type": "markdown",
      "metadata": {
        "id": "Um3IecDjxPl5",
        "colab_type": "text"
      },
      "source": [
        "Ok, now we're ready for do some data modeling."
      ]
    },
    {
      "cell_type": "markdown",
      "metadata": {
        "colab_type": "text",
        "id": "oAQpUaflovMQ"
      },
      "source": [
        "# 6. Regression\n",
        "\n",
        "Let's make a model that predicts a dog's longevity, based on its breed.\n",
        "First, we should split our dataset into train and testing sets, we properly evaluate our model. We are interested in predicting `Longevity(yrs)`.\n",
        "\n",
        "![](https://hackernoon.com/hn-images/1*SBUK2QEfCP-zvJmKm14wGQ.png)\n"
      ]
    },
    {
      "cell_type": "code",
      "metadata": {
        "colab_type": "code",
        "id": "u5ASwYUGovMJ",
        "colab": {}
      },
      "source": [
        "from sklearn.model_selection import train_test_split\n",
        "\n",
        "X = df.drop(['Longevity(yrs)'], axis=1)\n",
        "y = df['Longevity(yrs)']\n",
        "\n",
        "X_train, X_test, y_train, y_test = train_test_split(X, y)"
      ],
      "execution_count": 0,
      "outputs": []
    },
    {
      "cell_type": "code",
      "metadata": {
        "colab_type": "code",
        "id": "0NFE2yc8ovL6",
        "colab": {}
      },
      "source": [
        "from sklearn.linear_model import LinearRegression\n",
        "from sklearn.metrics import r2_score\n",
        "\n",
        "# TODO train model \n",
        "# TODO evaluate its performance"
      ],
      "execution_count": 0,
      "outputs": []
    },
    {
      "cell_type": "markdown",
      "metadata": {
        "id": "5TZEp1kQanH5",
        "colab_type": "text"
      },
      "source": [
        "# 7. Classification\n",
        "\n",
        "Let's classify our dog breeds! First, we should split our dataset into train and testing sets, we properly evaluate our model. We are interested in predicting `Breed Name`."
      ]
    },
    {
      "cell_type": "code",
      "metadata": {
        "id": "q1dhl-59yA9S",
        "colab_type": "code",
        "colab": {}
      },
      "source": [
        "from sklearn.model_selection import train_test_split\n",
        "\n",
        "X = df.drop(['Breed Name'], axis=1)\n",
        "y = df['Breed Name']\n",
        "\n",
        "X_train, X_test, y_train, y_test = train_test_split(X, y)"
      ],
      "execution_count": 0,
      "outputs": []
    },
    {
      "cell_type": "code",
      "metadata": {
        "id": "rtOOrwWCauWb",
        "colab_type": "code",
        "colab": {}
      },
      "source": [
        "from sklearn.svm import SVC\n",
        "from sklearn.neighbors import KNeighborsClassifier\n",
        "from sklearn.tree import DecisionTreeClassifier\n",
        "\n",
        "from sklearn.metrics import accuracy_score\n",
        "\n",
        "# TODO train model\n",
        "# TODO evaluate its performance"
      ],
      "execution_count": 0,
      "outputs": []
    },
    {
      "cell_type": "markdown",
      "metadata": {
        "id": "4Xt1uJ6ynzR0",
        "colab_type": "text"
      },
      "source": [
        "# N.B.\n",
        "\n",
        "When imputing values, or normalizing using the standard scaler / min-max scaler, it is important that this normalization is performed only on the information provided in the training set. \n",
        "\n",
        "Otherwise, the evaluation on the test set is meaningless. Our model uses samples it theoretically never saw!"
      ]
    },
    {
      "cell_type": "markdown",
      "metadata": {
        "id": "fMH8xFvGpZri",
        "colab_type": "text"
      },
      "source": [
        "Check out [Kaggle](https://www.kaggle.com/)! There are plenty of datasets you can hone your skills on. \n",
        "\n",
        "Also **competitions**. With **money**. Team up and go!"
      ]
    }
  ]
}